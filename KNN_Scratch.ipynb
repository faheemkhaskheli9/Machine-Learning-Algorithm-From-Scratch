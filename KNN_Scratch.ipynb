{
  "nbformat": 4,
  "nbformat_minor": 0,
  "metadata": {
    "colab": {
      "provenance": [],
      "authorship_tag": "ABX9TyOm6duqCFWE4b5gbDzG/MSP",
      "include_colab_link": true
    },
    "kernelspec": {
      "name": "python3",
      "display_name": "Python 3"
    },
    "language_info": {
      "name": "python"
    }
  },
  "cells": [
    {
      "cell_type": "markdown",
      "metadata": {
        "id": "view-in-github",
        "colab_type": "text"
      },
      "source": [
        "<a href=\"https://colab.research.google.com/github/faheemkhaskheli9/Machine-Learning-Algorithm-From-Scratch/blob/master/KNN_Scratch.ipynb\" target=\"_parent\"><img src=\"https://colab.research.google.com/assets/colab-badge.svg\" alt=\"Open In Colab\"/></a>"
      ]
    },
    {
      "cell_type": "code",
      "execution_count": null,
      "metadata": {
        "id": "vdtIeqoNj_gZ"
      },
      "outputs": [],
      "source": [
        "#Importing the required modules\n",
        "import numpy as np\n",
        "from scipy.stats import mode\n",
        "from sklearn.metrics import accuracy_score\n",
        "from sklearn.datasets import load_iris\n",
        "from numpy.random import randint"
      ]
    },
    {
      "cell_type": "code",
      "source": [
        "#Euclidean Distance\n",
        "def eucledian(p1,p2):\n",
        "    dist = np.sqrt(np.sum((p1-p2)**2))\n",
        "    return dist"
      ],
      "metadata": {
        "id": "uS9U0FHnkF24"
      },
      "execution_count": null,
      "outputs": []
    },
    {
      "cell_type": "code",
      "source": [
        "class KNN:\n",
        "  def __init__(self, K, train_x, train_y, distance_method=None):\n",
        "    self.distance_method = distance_method\n",
        "    self.K = K\n",
        "    self.train_x = train_x\n",
        "    self.train_y = train_y\n",
        "\n",
        "  def predict(self, test_x):\n",
        "    pred_y = []\n",
        "    for value in test_x:\n",
        "      dists = self.calculate_distances(value)\n",
        "\n",
        "      dist = np.argsort(dists)[:self.K]\n",
        "      labels = self.train_y[dist]\n",
        "\n",
        "      lab = mode(labels)\n",
        "      lab = lab.mode[0]\n",
        "      pred_y.append(lab)\n",
        "    return pred_y\n",
        "\n",
        "  def calculate_distances(self, value):\n",
        "      dists = []\n",
        "      for j in range(len(self.train_x)):\n",
        "          distances = self.distance_method(np.array(self.train_x[j,:]) , value)\n",
        "          dists.append(distances)\n",
        "      return dists"
      ],
      "metadata": {
        "id": "8a8Q-1LKkXmI"
      },
      "execution_count": null,
      "outputs": []
    },
    {
      "cell_type": "code",
      "source": [
        "iris= load_iris()\n",
        "\n",
        "X = iris.data\n",
        "y = iris.target\n",
        "\n",
        "train_idx = randint(0,150,100)\n",
        "X_train = X[train_idx]\n",
        "y_train = y[train_idx]\n",
        "\n",
        "#Creating the testing Data\n",
        "test_idx = randint(0,150,50)\n",
        "X_test = X[test_idx]\n",
        "y_test = y[test_idx]"
      ],
      "metadata": {
        "id": "kiVK0x_wmAt_"
      },
      "execution_count": null,
      "outputs": []
    },
    {
      "cell_type": "code",
      "source": [
        "knn = KNN(5, X_train, y_train, eucledian)\n",
        "pred_y = knn.predict(X_test)\n",
        "accuracy_score(y_test, pred_y)"
      ],
      "metadata": {
        "colab": {
          "base_uri": "https://localhost:8080/"
        },
        "id": "syT3gT4Gl1ol",
        "outputId": "2576d16a-e1d4-4b04-bccd-90b3621ef964"
      },
      "execution_count": null,
      "outputs": [
        {
          "output_type": "execute_result",
          "data": {
            "text/plain": [
              "0.96"
            ]
          },
          "metadata": {},
          "execution_count": 21
        }
      ]
    },
    {
      "cell_type": "code",
      "source": [],
      "metadata": {
        "id": "C9cGv_l0mhOL"
      },
      "execution_count": null,
      "outputs": []
    }
  ]
}